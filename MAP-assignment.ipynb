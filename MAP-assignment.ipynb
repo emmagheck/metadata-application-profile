{
 "cells": [
  {
   "cell_type": "markdown",
   "metadata": {},
   "source": [
    "# Metadata Application Profile Assignment"
   ]
  },
  {
   "cell_type": "code",
   "execution_count": 30,
   "metadata": {},
   "outputs": [],
   "source": [
    "import json\n",
    "import requests"
   ]
  },
  {
   "cell_type": "code",
   "execution_count": 31,
   "metadata": {},
   "outputs": [],
   "source": [
    "def get_credential(json_file, key, sub_key):\n",
    "    try:\n",
    "        with open(json_file) as f:\n",
    "            data = json.load(f)\n",
    "            return data[key][sub_key]\n",
    "    except Exception as e:\n",
    "        print(\"Error: \", e)"
   ]
  },
  {
   "cell_type": "code",
   "execution_count": 32,
   "metadata": {},
   "outputs": [
    {
     "name": "stdout",
     "output_type": "stream",
     "text": [
      "9KiOiA9e800PCOgf8ypxQALZ5PwqtuaK\n",
      "hGALPZ7kQqs12K4q6Jymw8UNsgLeNgiH\n"
     ]
    }
   ],
   "source": [
    "base_url = 'http://emmaheck.projectst.si.umich.edu/omekas/omeka-s/api'\n",
    "key_identity = get_credential(\"secrets.json\", \"omeka\", \"key_identity\")\n",
    "key_credential = get_credential(\"secrets.json\", \"omeka\", \"key_credential\")\n",
    "print(key_identity)\n",
    "print(key_credential)"
   ]
  },
  {
   "cell_type": "code",
   "execution_count": 33,
   "metadata": {},
   "outputs": [],
   "source": [
    "omekas_credentials = {\n",
    "    'key_identity': key_identity,\n",
    "    'key_credential': key_credential\n",
    "}"
   ]
  },
  {
   "cell_type": "code",
   "execution_count": 34,
   "metadata": {},
   "outputs": [],
   "source": [
    "import csv\n",
    "import json\n",
    "import requests\n",
    "\n",
    "# for later, when working with local files\n",
    "import glob\n",
    "import os\n",
    "from os.path import join"
   ]
  },
  {
   "cell_type": "code",
   "execution_count": 56,
   "metadata": {},
   "outputs": [],
   "source": [
    "endpoint = 'https://www.loc.gov/free-to-use'\n",
    "parameters = {\n",
    "    'fo' : 'json'\n",
    "}"
   ]
  },
  {
   "cell_type": "code",
   "execution_count": 57,
   "metadata": {},
   "outputs": [],
   "source": [
    "collection = \"cats\""
   ]
  },
  {
   "cell_type": "code",
   "execution_count": 58,
   "metadata": {},
   "outputs": [],
   "source": [
    "collection_list_response = requests.get(endpoint + '/' + collection, params=parameters)"
   ]
  },
  {
   "cell_type": "code",
   "execution_count": 59,
   "metadata": {},
   "outputs": [
    {
     "data": {
      "text/plain": [
       "'https://www.loc.gov/free-to-use/cats?fo=json'"
      ]
     },
     "execution_count": 59,
     "metadata": {},
     "output_type": "execute_result"
    }
   ],
   "source": [
    "collection_list_response.url"
   ]
  },
  {
   "cell_type": "code",
   "execution_count": 60,
   "metadata": {},
   "outputs": [],
   "source": [
    "collection_json = collection_list_response.json()"
   ]
  },
  {
   "cell_type": "code",
   "execution_count": 61,
   "metadata": {},
   "outputs": [
    {
     "data": {
      "text/plain": [
       "dict_keys(['breadcrumbs', 'content', 'content_is_post', 'description', 'expert_resources', 'next', 'next_sibling', 'options', 'pages', 'portal', 'previous', 'previous_sibling', 'site_type', 'timestamp', 'title', 'type'])"
      ]
     },
     "execution_count": 61,
     "metadata": {},
     "output_type": "execute_result"
    }
   ],
   "source": [
    "collection_json.keys()"
   ]
  },
  {
   "cell_type": "code",
   "execution_count": 62,
   "metadata": {},
   "outputs": [
    {
     "name": "stdout",
     "output_type": "stream",
     "text": [
      "{'image': '/static/portals/free-to-use/public-domain/cats/16.jpg', 'link': '/resource/ppmsca.15528/', 'title': 'Edward Penfield, his book. Bookplate, ca. 1900-1925'}\n",
      "{'image': '/static/portals/free-to-use/public-domain/cats/1.jpg', 'link': '/resource/pga.12042/', 'title': 'The cat - Felis domesticus. Lithograph, published by L. Prang, 1872.'}\n",
      "{'image': '/static/portals/free-to-use/public-domain/cats/2.jpg', 'link': '/resource/cph.3c21044/', 'title': 'Animal locomotion, Twenty-four consecutive images of a cat running. Photos by Eadweard Muybridge, 1887'}\n",
      "{'image': '/static/portals/free-to-use/public-domain/cats/3.jpg', 'link': '/resource/jpd.02425/', 'title': 'Domestic cat nursing kittens. Ukiyo-e woodcut by Tachibana Morikuni, 1720.'}\n",
      "{'image': '/static/portals/free-to-use/public-domain/cats/4.jpg', 'link': '/resource/jpd.02798/', 'title': 'A cat cleaning its claws. Drawing by Katsushika Hokusai, between 1830 and 1850'}\n",
      "{'image': '/static/portals/free-to-use/public-domain/cats/5.jpg', 'link': '/resource/cph.3b06249/', 'title': 'Cat and Kitten Drinking Milk. Charles Fenderich, 1832.'}\n",
      "{'image': '/static/portals/free-to-use/public-domain/cats/6.jpg', 'link': '/resource/cph.3g08753/', 'title': 'Cat. Ukioy-e drawing by Andō Hiroshige, 1840s.'}\n",
      "{'image': '/static/portals/free-to-use/public-domain/cats/7.jpg', 'link': '/resource/pga.05046/', 'title': 'The Three White Kittens: Peace. Lithograph by Currier & Ives and artist Otto Stark, 1879-1907.'}\n",
      "{'image': '/static/portals/free-to-use/public-domain/cats/8.jpg', 'link': '/resource/pga.07149/', 'title': 'Two Cats. Lthograph by Thomas Hunter, 1881.'}\n",
      "{'image': '/static/portals/free-to-use/public-domain/cats/9.jpg', 'link': '/resource/cai.2a15065/', 'title': 'What George asked the cat. Drawing by Alice Barber Stephens, 1888.'}\n",
      "{'image': '/static/portals/free-to-use/public-domain/cats/10.jpg', 'link': '/resource/ppmsca.18772/', 'title': 'Evolution of a cat-cher. Lithograph by H.S. Crocker & Co., S.F., 1889.'}\n",
      "{'image': '/static/portals/free-to-use/public-domain/cats/11.jpg', 'link': '/resource/ppmsca.43507/', 'title': 'The Black Cat. Magazine cover, 1890s'}\n",
      "{'image': '/static/portals/free-to-use/public-domain/cats/12.jpg', 'link': '/resource/cph.3g03063/', 'title': \"Harper's May. Magazine poster by Edward Penfield, 1896.\"}\n",
      "{'image': '/static/portals/free-to-use/public-domain/cats/13.jpg', 'link': '/resource/cph.3b52525/', 'title': 'Poster calendar 1897 by Edward Penfield.'}\n",
      "{'image': '/static/portals/free-to-use/public-domain/cats/14.jpg', 'link': '/resource/cph.3g03065/', 'title': \"Harper's July. Poster by Edward Penfield, 1898.\"}\n",
      "{'image': '/static/portals/free-to-use/public-domain/cats/15.jpg', 'link': '/resource/cph.3b39357/', 'title': \"In the Rogue's Gallery. Photograph, 1898.\"}\n",
      "{'image': '/static/portals/free-to-use/public-domain/cats/17.jpg', 'link': '/resource/rbc0001.2003juv0001/?sp=1', 'title': 'The book of the cat...'}\n",
      "{'image': '/static/portals/free-to-use/public-domain/cats/18.jpg', 'link': '/resource/cph.3b16490/', 'title': 'Aviator John Moisant, who made the first flight across the English channel with two passengers, including his cat, Mademoiselle Fifi...'}\n",
      "{'image': '/static/portals/free-to-use/public-domain/cats/19.jpg', 'link': '/resource/ppmsca.05919/', 'title': 'Colonial houses - three chums. Photograph by Wallace Nutting, 1913.'}\n",
      "{'image': '/static/portals/free-to-use/public-domain/cats/20.jpg', 'link': '/resource/ds.04034/', 'title': 'The Entanglement. Photo by Harry W. Frees, 1914'}\n",
      "{'image': '/static/portals/free-to-use/public-domain/cats/21.jpg', 'link': '/resource/ds.04037/', 'title': 'The Picnic. Photo by Harry W. Frees, 1914'}\n",
      "{'image': '/static/portals/free-to-use/public-domain/cats/22.jpg', 'link': '/resource/cph.3c00170/', 'title': 'The Cat. Photo by Frank Eugene, 1916'}\n",
      "{'image': '/static/portals/free-to-use/public-domain/cats/23.jpg', 'link': '/resource/ds.07446/', 'title': \"Treat 'em rough - Join the tanks. World War I poster by August W. Hutaf...\"}\n",
      "{'image': '/static/portals/free-to-use/public-domain/cats/24.jpg', 'link': '/resource/cph.3g08217/', 'title': 'Study of a cat, one of several cats that the photographer called Buzzer Photograph by Arnold Genthe, 1910s.'}\n",
      "{'image': '/static/portals/free-to-use/public-domain/cats/25.jpg', 'link': '/resource/agc.7a16795/', 'title': 'Buzzer the cat, portrait. Photograph by Arnold Genthe, ca. 1912.'}\n",
      "{'image': '/static/portals/free-to-use/public-domain/cats/26.jpg', 'link': '/resource/agc.7a17761/', 'title': \"Buzzer, the photographer's cat, lying on a chair next to a doll. Autochrome photograph by Arnold Genthe...\"}\n",
      "{'image': '/static/portals/free-to-use/public-domain/cats/27.jpg', 'link': '/resource/cph.3c06978/', 'title': 'Washington cat show opens at Wardman Park Hotel. Edna B. Doughty and Louise Grogan with Persian cats...'}\n",
      "{'image': '/static/portals/free-to-use/public-domain/cats/28.jpg', 'link': '/resource/thc.5a36851/', 'title': 'Cat (kitten with back arched). Photograph by Theodor Horydczak, 1920-1950.'}\n",
      "{'image': '/static/portals/free-to-use/public-domain/cats/29.jpg', 'link': '/resource/npcc.09707/', 'title': 'Blackie & Tiger, two of the cats owned by President Calvin Coolidge. National Photo Co...'}\n",
      "{'image': '/static/portals/free-to-use/public-domain/cats/30.jpg', 'link': '/resource/npcc.10856/', 'title': 'Tiger, also called Tige, a White House cat with Calvin Coolidge.'}\n",
      "{'image': '/static/portals/free-to-use/public-domain/cats/31.jpg', 'link': '/resource/npcc.16579/', 'title': 'Capitol Cats. Photograph by National Photograph Co., 1/22/27'}\n",
      "{'image': '/static/portals/free-to-use/public-domain/cats/32.jpg', 'link': '/resource/hec.21589/', 'title': 'The cat Timmie, owned by Bascom N. Timmons, journalist and president of the National Press Club...'}\n",
      "{'image': '/static/portals/free-to-use/public-domain/cats/33.jpg', 'link': '/resource/ppmsca.51533/', 'title': 'Brünnhilde, 1936'}\n",
      "{'image': '/static/portals/free-to-use/public-domain/cats/34.jpg', 'link': '/resource/gsc.5a10626/', 'title': 'Ed and Pegeen Fitzgerald...New York City. Pegeen at typewriter with cats...1944.'}\n",
      "{'image': '/static/portals/free-to-use/public-domain/cats/35.jpg', 'link': '/resource/fsa.8c01765/', 'title': 'The cat drinks foamy, fresh milk. Farm, Canyon County, Idaho. Photo by Russell Lee, 1941.'}\n",
      "{'image': '/static/portals/free-to-use/public-domain/cats/36.jpg', 'link': '/resource/cph.3c20459/', 'title': \"Frances Benjamin Johnston's cats, Herman and Vermin, seated on brick railing of New Orleans house...\"}\n",
      "{'image': '/static/portals/free-to-use/public-domain/cats/37.jpg', 'link': '/resource/gottlieb.10861.0', 'title': 'Portrait of Sam Donahue and Hep, Aquarium, New York, N.Y. Photo by William Gottlieb, ca. Dec. 1946...'}\n",
      "{'image': '/static/portals/free-to-use/public-domain/cats/38.jpg', 'link': '/resource/highsm.47959/', 'title': 'Rescued cats get their own shelter, with lots of room to roam, at the Kindness Ranch, near Hartville, Wyoming...'}\n",
      "{'image': '/static/portals/free-to-use/public-domain/cats/39.jpg', 'link': '/resource/highsm.41489/', 'title': \"A contented cat at Yoder's Amish Home, an authentic Amish farm that began accepting visitors in 1983 near Walnut Creek...\"}\n",
      "{'image': '/static/portals/free-to-use/public-domain/cats/40.jpg', 'link': '/resource/highsm.43955/', 'title': 'A most unusual carousel at the Lake Compounce amusement park in Bristol, Connecticut. Photograph by Carol M. Highsmith, 2014.'}\n"
     ]
    }
   ],
   "source": [
    "for k in collection_json['content']['set']['items']:\n",
    "    print(k)"
   ]
  },
  {
   "cell_type": "code",
   "execution_count": 63,
   "metadata": {},
   "outputs": [
    {
     "data": {
      "text/plain": [
       "40"
      ]
     },
     "execution_count": 63,
     "metadata": {},
     "output_type": "execute_result"
    }
   ],
   "source": [
    "len(collection_json['content']['set']['items'])"
   ]
  },
  {
   "cell_type": "code",
   "execution_count": 64,
   "metadata": {},
   "outputs": [
    {
     "data": {
      "text/plain": [
       "dict_keys(['image', 'link', 'title'])"
      ]
     },
     "execution_count": 64,
     "metadata": {},
     "output_type": "execute_result"
    }
   ],
   "source": [
    "collection_json['content']['set']['items'][0].keys()"
   ]
  },
  {
   "cell_type": "code",
   "execution_count": 65,
   "metadata": {},
   "outputs": [
    {
     "name": "stdout",
     "output_type": "stream",
     "text": [
      "wrote data/collection_set_list.csv\n"
     ]
    }
   ],
   "source": [
    "collection_set_list = os.path.join('data','collection_set_list.csv')\n",
    "headers = ['image','link','title']\n",
    "\n",
    "with open(collection_set_list, 'w', encoding='utf-8', newline='') as f:\n",
    "    writer = csv.DictWriter(f, fieldnames=headers)\n",
    "    writer.writeheader()\n",
    "    for item in collection_json['content']['set']['items']:\n",
    "        # clean up errant spaces in the title fields\n",
    "        item['title'] = item['title'].rstrip()\n",
    "        writer.writerow(item)\n",
    "    print('wrote',collection_set_list)"
   ]
  },
  {
   "cell_type": "code",
   "execution_count": 66,
   "metadata": {},
   "outputs": [],
   "source": [
    "# update endpoint info\n",
    "endpoint = 'https://www.loc.gov'\n",
    "parameters = {\n",
    "    'fo' : 'json'\n",
    "}"
   ]
  },
  {
   "cell_type": "code",
   "execution_count": 67,
   "metadata": {},
   "outputs": [
    {
     "name": "stdout",
     "output_type": "stream",
     "text": [
      "created data/ftu_libs_metadata\n"
     ]
    }
   ],
   "source": [
    "# run this cell to confirm that you have a location for the JSON files\n",
    "item_metadata_directory = os.path.join('data','ftu_libs_metadata')\n",
    "\n",
    "if os.path.isdir(item_metadata_directory):\n",
    "    print(item_metadata_directory,'exists')\n",
    "else:\n",
    "    os.mkdir(item_metadata_directory)\n",
    "    print('created',item_metadata_directory)"
   ]
  },
  {
   "cell_type": "code",
   "execution_count": 69,
   "metadata": {},
   "outputs": [
    {
     "name": "stdout",
     "output_type": "stream",
     "text": [
      "requested https://www.loc.gov/resource/ppmsca.15528/?fo=json 200\n",
      "wrote data/ftu_libs_metadata/item_metadata-ppmsca.15528.json\n",
      "requested https://www.loc.gov/resource/pga.12042/?fo=json 200\n",
      "wrote data/ftu_libs_metadata/item_metadata-pga.12042.json\n",
      "requested https://www.loc.gov/resource/cph.3c21044/?fo=json 200\n",
      "wrote data/ftu_libs_metadata/item_metadata-cph.3c21044.json\n",
      "requested https://www.loc.gov/resource/jpd.02425/?fo=json 200\n",
      "wrote data/ftu_libs_metadata/item_metadata-jpd.02425.json\n",
      "requested https://www.loc.gov/resource/jpd.02798/?fo=json 200\n",
      "wrote data/ftu_libs_metadata/item_metadata-jpd.02798.json\n",
      "requested https://www.loc.gov/resource/cph.3b06249/?fo=json 200\n",
      "wrote data/ftu_libs_metadata/item_metadata-cph.3b06249.json\n",
      "requested https://www.loc.gov/resource/cph.3g08753/?fo=json 200\n",
      "wrote data/ftu_libs_metadata/item_metadata-cph.3g08753.json\n",
      "requested https://www.loc.gov/resource/pga.05046/?fo=json 200\n",
      "wrote data/ftu_libs_metadata/item_metadata-pga.05046.json\n",
      "requested https://www.loc.gov/resource/pga.07149/?fo=json 200\n",
      "wrote data/ftu_libs_metadata/item_metadata-pga.07149.json\n",
      "requested https://www.loc.gov/resource/cai.2a15065/?fo=json 200\n",
      "wrote data/ftu_libs_metadata/item_metadata-cai.2a15065.json\n",
      "requested https://www.loc.gov/resource/ppmsca.18772/?fo=json 200\n",
      "wrote data/ftu_libs_metadata/item_metadata-ppmsca.18772.json\n",
      "requested https://www.loc.gov/resource/ppmsca.43507/?fo=json 200\n",
      "wrote data/ftu_libs_metadata/item_metadata-ppmsca.43507.json\n",
      "requested https://www.loc.gov/resource/cph.3g03063/?fo=json 200\n",
      "wrote data/ftu_libs_metadata/item_metadata-cph.3g03063.json\n",
      "requested https://www.loc.gov/resource/cph.3b52525/?fo=json 500\n",
      "requested https://www.loc.gov/resource/cph.3b52525/?fo=json 500\n",
      "requested https://www.loc.gov/resource/cph.3g03065/?fo=json 200\n",
      "wrote data/ftu_libs_metadata/item_metadata-cph.3g03065.json\n",
      "requested https://www.loc.gov/resource/cph.3b39357/?fo=json 200\n",
      "wrote data/ftu_libs_metadata/item_metadata-cph.3b39357.json\n",
      "requested https://www.loc.gov/resource/rbc0001.2003juv0001/?sp=1&fo=json 200\n",
      "wrote data/ftu_libs_metadata/item_metadata-rbc0001.2003juv0001.json\n",
      "requested https://www.loc.gov/resource/cph.3b16490/?fo=json 200\n",
      "wrote data/ftu_libs_metadata/item_metadata-cph.3b16490.json\n",
      "requested https://www.loc.gov/resource/ppmsca.05919/?fo=json 200\n",
      "wrote data/ftu_libs_metadata/item_metadata-ppmsca.05919.json\n",
      "requested https://www.loc.gov/resource/ds.04034/?fo=json 200\n",
      "wrote data/ftu_libs_metadata/item_metadata-ds.04034.json\n",
      "requested https://www.loc.gov/resource/ds.04037/?fo=json 200\n",
      "wrote data/ftu_libs_metadata/item_metadata-ds.04037.json\n",
      "requested https://www.loc.gov/resource/cph.3c00170/?fo=json 200\n",
      "wrote data/ftu_libs_metadata/item_metadata-cph.3c00170.json\n",
      "requested https://www.loc.gov/resource/ds.07446/?fo=json 200\n",
      "wrote data/ftu_libs_metadata/item_metadata-ds.07446.json\n",
      "requested https://www.loc.gov/resource/cph.3g08217/?fo=json 200\n",
      "wrote data/ftu_libs_metadata/item_metadata-cph.3g08217.json\n",
      "requested https://www.loc.gov/resource/agc.7a16795/?fo=json 200\n",
      "wrote data/ftu_libs_metadata/item_metadata-agc.7a16795.json\n",
      "requested https://www.loc.gov/resource/agc.7a17761/?fo=json 200\n",
      "wrote data/ftu_libs_metadata/item_metadata-agc.7a17761.json\n",
      "requested https://www.loc.gov/resource/cph.3c06978/?fo=json 200\n",
      "wrote data/ftu_libs_metadata/item_metadata-cph.3c06978.json\n",
      "requested https://www.loc.gov/resource/thc.5a36851/?fo=json 200\n",
      "wrote data/ftu_libs_metadata/item_metadata-thc.5a36851.json\n",
      "requested https://www.loc.gov/resource/npcc.09707/?fo=json 200\n",
      "wrote data/ftu_libs_metadata/item_metadata-npcc.09707.json\n",
      "requested https://www.loc.gov/resource/npcc.10856/?fo=json 200\n",
      "wrote data/ftu_libs_metadata/item_metadata-npcc.10856.json\n",
      "requested https://www.loc.gov/resource/npcc.16579/?fo=json 200\n",
      "wrote data/ftu_libs_metadata/item_metadata-npcc.16579.json\n",
      "requested https://www.loc.gov/resource/hec.21589/?fo=json 200\n",
      "wrote data/ftu_libs_metadata/item_metadata-hec.21589.json\n",
      "requested https://www.loc.gov/resource/ppmsca.51533/?fo=json 200\n",
      "wrote data/ftu_libs_metadata/item_metadata-ppmsca.51533.json\n",
      "requested https://www.loc.gov/resource/gsc.5a10626/?fo=json 200\n",
      "wrote data/ftu_libs_metadata/item_metadata-gsc.5a10626.json\n",
      "requested https://www.loc.gov/resource/fsa.8c01765/?fo=json 200\n",
      "wrote data/ftu_libs_metadata/item_metadata-fsa.8c01765.json\n",
      "requested https://www.loc.gov/resource/cph.3c20459/?fo=json 200\n",
      "wrote data/ftu_libs_metadata/item_metadata-cph.3c20459.json\n",
      "requested https://www.loc.gov/resource/gottlieb.10861.0?fo=json 200\n",
      "wrote data/ftu_libs_metadata/item_metadata-gottlieb.10861.0.json\n",
      "requested https://www.loc.gov/resource/highsm.47959/?fo=json 200\n",
      "wrote data/ftu_libs_metadata/item_metadata-highsm.47959.json\n",
      "requested https://www.loc.gov/resource/highsm.41489/?fo=json 200\n",
      "wrote data/ftu_libs_metadata/item_metadata-highsm.41489.json\n",
      "requested https://www.loc.gov/resource/highsm.43955/?fo=json 200\n",
      "wrote data/ftu_libs_metadata/item_metadata-highsm.43955.json\n",
      "--- mini LOG ---\n",
      "items requested: 39\n",
      "errors: 1\n",
      "files written: 39\n"
     ]
    }
   ],
   "source": [
    "item_count = 0\n",
    "error_count = 0\n",
    "file_count = 0\n",
    "\n",
    "data_directory = 'data'\n",
    "item_metadata_directory = 'ftu_libs_metadata'\n",
    "item_metadata_file_start = 'item_metadata'\n",
    "json_suffix = '.json'\n",
    "\n",
    "collection_set_list = os.path.join('data','collection_set_list.csv')\n",
    "\n",
    "with open(collection_set_list, 'r', encoding='utf-8', newline='') as f:\n",
    "    reader = csv.DictReader(f, fieldnames=headers)\n",
    "    for item in reader:\n",
    "        if item['link'] == 'link':\n",
    "            continue\n",
    "        # these resource links could redirect to item pages, but currently don't work\n",
    "        if '?' in item['link']:\n",
    "            resource_ID = item['link']\n",
    "            short_ID = item['link'].split('/')[2]\n",
    "            item_metadata = requests.get(endpoint + resource_ID + '&fo=json')\n",
    "            print('requested',item_metadata.url,item_metadata.status_code)\n",
    "            if item_metadata.status_code != 200:\n",
    "                print('requested',item_metadata.url,item_metadata.status_code)\n",
    "                error_count += 1\n",
    "                continue\n",
    "            try:\n",
    "                item_metadata.json()\n",
    "            except: #basically this catches all of the highsmith photos with hhh in the ID\n",
    "                error_count += 1\n",
    "                print('no json found')\n",
    "                continue\n",
    "            fout = os.path.join(data_directory, item_metadata_directory, str(item_metadata_file_start + '-' + short_ID + json_suffix))\n",
    "            with open(fout, 'w', encoding='utf-8') as json_file:\n",
    "                json_file.write(json.dumps(item_metadata.json()['item']))\n",
    "                file_count += 1\n",
    "                print('wrote', fout)\n",
    "            item_count += 1\n",
    "        else:\n",
    "            resource_ID = item['link']\n",
    "            short_ID = item['link'].split('/')[2]\n",
    "            item_metadata = requests.get(endpoint + resource_ID, params=parameters)\n",
    "            print('requested',item_metadata.url,item_metadata.status_code)\n",
    "            if item_metadata.status_code != 200:\n",
    "                print('requested',item_metadata.url,item_metadata.status_code)\n",
    "                error_count += 1\n",
    "                continue\n",
    "            try:\n",
    "                item_metadata.json()\n",
    "            except:\n",
    "                error_count += 1\n",
    "                print('no json found')\n",
    "                continue\n",
    "            fout = os.path.join(data_directory, item_metadata_directory, str(item_metadata_file_start + '-' + short_ID + json_suffix))\n",
    "            with open(fout, 'w', encoding='utf-8') as json_file:\n",
    "                json_file.write(json.dumps(item_metadata.json()['item']))\n",
    "                file_count += 1\n",
    "                print('wrote', fout)\n",
    "            item_count += 1\n",
    "\n",
    "print('--- mini LOG ---')\n",
    "print('items requested:',item_count)\n",
    "print('errors:',error_count)\n",
    "print('files written:',file_count)"
   ]
  },
  {
   "cell_type": "code",
   "execution_count": 70,
   "metadata": {},
   "outputs": [
    {
     "name": "stdout",
     "output_type": "stream",
     "text": [
      "/Users/emmaheck/Documents/umich/courses/SI676/networked-services-labs-2023-main\n"
     ]
    }
   ],
   "source": [
    "current_loc = os.getcwd()\n",
    "\n",
    "print(current_loc)"
   ]
  },
  {
   "cell_type": "code",
   "execution_count": 71,
   "metadata": {},
   "outputs": [
    {
     "name": "stdout",
     "output_type": "stream",
     "text": [
      "data/ftu_libs_metadata\n"
     ]
    }
   ],
   "source": [
    "metadata_file_path = os.path.join('data','ftu_libs_metadata')\n",
    "\n",
    "print(metadata_file_path)\n"
   ]
  },
  {
   "cell_type": "code",
   "execution_count": 72,
   "metadata": {},
   "outputs": [
    {
     "name": "stdout",
     "output_type": "stream",
     "text": [
      "data/ftu_libs_metadata/item_metadata-agc.7a17761.json\n",
      "data/ftu_libs_metadata/item_metadata-cph.3c06978.json\n",
      "data/ftu_libs_metadata/item_metadata-agc.7a16795.json\n",
      "data/ftu_libs_metadata/item_metadata-ppmsca.43507.json\n",
      "data/ftu_libs_metadata/item_metadata-ds.07446.json\n",
      "data/ftu_libs_metadata/item_metadata-cph.3g08217.json\n",
      "data/ftu_libs_metadata/item_metadata-jpd.02425.json\n",
      "data/ftu_libs_metadata/item_metadata-jpd.02798.json\n",
      "data/ftu_libs_metadata/item_metadata-npcc.10856.json\n",
      "data/ftu_libs_metadata/item_metadata-ds.04037.json\n",
      "data/ftu_libs_metadata/item_metadata-cph.3c00170.json\n",
      "data/ftu_libs_metadata/item_metadata-highsm.47959.json\n",
      "data/ftu_libs_metadata/item_metadata-rbc0001.2003juv0001.json\n",
      "data/ftu_libs_metadata/item_metadata-cph.3g08753.json\n",
      "data/ftu_libs_metadata/item_metadata-ppmsca.18772.json\n",
      "data/ftu_libs_metadata/item_metadata-pga.07149.json\n",
      "data/ftu_libs_metadata/item_metadata-pga.12042.json\n",
      "data/ftu_libs_metadata/item_metadata-pga.05046.json\n",
      "data/ftu_libs_metadata/item_metadata-hec.21589.json\n",
      "data/ftu_libs_metadata/item_metadata-thc.5a36851.json\n",
      "data/ftu_libs_metadata/item_metadata-highsm.43955.json\n",
      "data/ftu_libs_metadata/item_metadata-npcc.16579.json\n",
      "data/ftu_libs_metadata/item_metadata-cph.3g03063.json\n",
      "data/ftu_libs_metadata/item_metadata-ppmsca.51533.json\n",
      "data/ftu_libs_metadata/item_metadata-cph.3c21044.json\n",
      "data/ftu_libs_metadata/item_metadata-npcc.09707.json\n",
      "data/ftu_libs_metadata/item_metadata-ppmsca.15528.json\n",
      "data/ftu_libs_metadata/item_metadata-cph.3b16490.json\n",
      "data/ftu_libs_metadata/item_metadata-ds.04034.json\n",
      "data/ftu_libs_metadata/item_metadata-cph.3c20459.json\n",
      "data/ftu_libs_metadata/item_metadata-gsc.5a10626.json\n",
      "data/ftu_libs_metadata/item_metadata-cph.3g03065.json\n",
      "data/ftu_libs_metadata/item_metadata-highsm.41489.json\n",
      "data/ftu_libs_metadata/item_metadata-cai.2a15065.json\n",
      "data/ftu_libs_metadata/item_metadata-ppmsca.05919.json\n",
      "data/ftu_libs_metadata/item_metadata-fsa.8c01765.json\n",
      "data/ftu_libs_metadata/item_metadata-cph.3b06249.json\n",
      "data/ftu_libs_metadata/item_metadata-gottlieb.10861.0.json\n",
      "data/ftu_libs_metadata/item_metadata-cph.3b39357.json\n",
      "found 39\n"
     ]
    }
   ],
   "source": [
    "file_count = 0\n",
    "\n",
    "for file in glob.glob('data/ftu_libs_metadata/item_metadata-*.json'):\n",
    "    file_count += 1\n",
    "    print(file)\n",
    "    \n",
    "print('found',file_count)"
   ]
  },
  {
   "cell_type": "code",
   "execution_count": 73,
   "metadata": {},
   "outputs": [],
   "source": [
    "list_of_item_metadata_files = list() \n",
    "for file in glob.glob('data/ftu_libs_metadata/item_metadata-*.json'):\n",
    "    list_of_item_metadata_files.append(file)"
   ]
  },
  {
   "cell_type": "code",
   "execution_count": 74,
   "metadata": {},
   "outputs": [
    {
     "data": {
      "text/plain": [
       "39"
      ]
     },
     "execution_count": 74,
     "metadata": {},
     "output_type": "execute_result"
    }
   ],
   "source": [
    "len(list_of_item_metadata_files)"
   ]
  },
  {
   "cell_type": "code",
   "execution_count": 75,
   "metadata": {},
   "outputs": [
    {
     "name": "stdout",
     "output_type": "stream",
     "text": [
      "data/ftu_libs_metadata/item_metadata-agc.7a16795.json\n",
      "data/ftu_libs_metadata/item_metadata-agc.7a17761.json\n",
      "data/ftu_libs_metadata/item_metadata-cai.2a15065.json\n",
      "data/ftu_libs_metadata/item_metadata-cph.3b06249.json\n",
      "data/ftu_libs_metadata/item_metadata-cph.3b16490.json\n",
      "data/ftu_libs_metadata/item_metadata-cph.3b39357.json\n",
      "data/ftu_libs_metadata/item_metadata-cph.3c00170.json\n",
      "data/ftu_libs_metadata/item_metadata-cph.3c06978.json\n",
      "data/ftu_libs_metadata/item_metadata-cph.3c20459.json\n",
      "data/ftu_libs_metadata/item_metadata-cph.3c21044.json\n",
      "data/ftu_libs_metadata/item_metadata-cph.3g03063.json\n",
      "data/ftu_libs_metadata/item_metadata-cph.3g03065.json\n",
      "data/ftu_libs_metadata/item_metadata-cph.3g08217.json\n",
      "data/ftu_libs_metadata/item_metadata-cph.3g08753.json\n",
      "data/ftu_libs_metadata/item_metadata-ds.04034.json\n",
      "data/ftu_libs_metadata/item_metadata-ds.04037.json\n",
      "data/ftu_libs_metadata/item_metadata-ds.07446.json\n",
      "data/ftu_libs_metadata/item_metadata-fsa.8c01765.json\n",
      "data/ftu_libs_metadata/item_metadata-gottlieb.10861.0.json\n",
      "data/ftu_libs_metadata/item_metadata-gsc.5a10626.json\n",
      "data/ftu_libs_metadata/item_metadata-hec.21589.json\n",
      "data/ftu_libs_metadata/item_metadata-highsm.41489.json\n",
      "data/ftu_libs_metadata/item_metadata-highsm.43955.json\n",
      "data/ftu_libs_metadata/item_metadata-highsm.47959.json\n",
      "data/ftu_libs_metadata/item_metadata-jpd.02425.json\n",
      "data/ftu_libs_metadata/item_metadata-jpd.02798.json\n",
      "data/ftu_libs_metadata/item_metadata-npcc.09707.json\n",
      "data/ftu_libs_metadata/item_metadata-npcc.10856.json\n",
      "data/ftu_libs_metadata/item_metadata-npcc.16579.json\n",
      "data/ftu_libs_metadata/item_metadata-pga.05046.json\n",
      "data/ftu_libs_metadata/item_metadata-pga.07149.json\n",
      "data/ftu_libs_metadata/item_metadata-pga.12042.json\n",
      "data/ftu_libs_metadata/item_metadata-ppmsca.05919.json\n",
      "data/ftu_libs_metadata/item_metadata-ppmsca.15528.json\n",
      "data/ftu_libs_metadata/item_metadata-ppmsca.18772.json\n",
      "data/ftu_libs_metadata/item_metadata-ppmsca.43507.json\n",
      "data/ftu_libs_metadata/item_metadata-ppmsca.51533.json\n",
      "data/ftu_libs_metadata/item_metadata-rbc0001.2003juv0001.json\n",
      "data/ftu_libs_metadata/item_metadata-thc.5a36851.json\n"
     ]
    }
   ],
   "source": [
    "list_of_item_metadata_files.sort()\n",
    "\n",
    "for file in list_of_item_metadata_files:\n",
    "    print(file)"
   ]
  },
  {
   "cell_type": "code",
   "execution_count": 76,
   "metadata": {},
   "outputs": [
    {
     "name": "stdout",
     "output_type": "stream",
     "text": [
      "file: data/ftu_libs_metadata/item_metadata-agc.7a16795.json \n",
      "\n",
      "_version_ : 1731246297655017472\n",
      "access_restricted : False\n",
      "aka : ['https://www.loc.gov/pictures/item/2018706861/', 'http://www.loc.gov/item/2018706861/', 'http://www.loc.gov/pictures/item/2018706861/', 'https://www.loc.gov/pictures/collection/agc/item/2018706861/', 'http://www.loc.gov/pictures/collection/agc/item/2018706861/', 'https://hdl.loc.gov/loc.pnp/agc.7a16795', 'https://hdl.loc.gov/loc.pnp/agc.7a16795', 'http://www.loc.gov/resource/agc.7a16795/', 'http://lccn.loc.gov/2018706861']\n",
      "call_number : LC-G432- 0187 [P&P]\n",
      "campaigns : []\n",
      "contributor_names : ['Genthe, Arnold, 1869-1942, photographer']\n",
      "contributors : [{'genthe, arnold': 'https://www.loc.gov/search/?fa=contributor:genthe,+arnold&fo=json'}]\n",
      "control_number : \n",
      "created : 2019-10-22T06:20:22Z\n",
      "created_published : ['ca. 1912.']\n",
      "created_published_date : ca. 1912.\n",
      "date : 1912-01-01\n",
      "dates : [{'1912': 'https://www.loc.gov/search/?dates=1912/1912&fo=json'}]\n",
      "description : ['1 negative : glass ; 5 x 7 in.']\n",
      "digital_id : ['agc 7a16795 https://hdl.loc.gov/loc.pnp/agc.7a16795']\n",
      "digitized : True\n",
      "display_offsite : True\n",
      "extract_timestamp : 2021-09-01T21:04:02.777Z\n",
      "extract_urls : ['http://www.loc.gov/pictures/collection/agc/item/2018706861/#agc', 'http://lccn.loc.gov/2018706861#catalog-split-07']\n",
      "format : [{'photo, print, drawing': 'https://www.loc.gov/search/?fa=original_format:photo,+print,+drawing&fo=json'}]\n",
      "format_headings : ['Glass negatives.', 'Portrait photographs.']\n",
      "genre : ['Portrait photographs', 'Glass negatives']\n",
      "group : ['agc', 'catalog-split-07', 'catalog', 'genthe', 'main-catalog-split-07', 'main-catalog']\n",
      "hassegments : False\n",
      "id : http://www.loc.gov/item/2018706861/\n",
      "image_url : ['https://tile.loc.gov/storage-services/service/pnp/agc/7a16000/7a16700/7a16795_150px.jpg#h=105&w=150', 'https://tile.loc.gov/storage-services/service/pnp/agc/7a16000/7a16700/7a16795t.gif#h=105&w=150', 'https://tile.loc.gov/storage-services/service/pnp/agc/7a16000/7a16700/7a16795r.jpg#h=392&w=560']\n",
      "index : 1\n",
      "item : {'call_number': 'LC-G432- 0187 [P&P]', 'contributors': ['Genthe, Arnold, 1869-1942, photographer.'], 'control_number': '2018706861', 'created': '2019-10-22T06:20:22Z', 'created_published': 'ca. 1912.', 'created_published_date': 'ca. 1912.', 'creators': [{'link': 'https://www.loc.gov/pictures/related/?fi=name&q=Genthe%2C%20Arnold%2C%201869-1942&co=agc', 'role': 'photographer', 'title': 'Genthe, Arnold, 1869-1942'}], 'date': 'ca. 1912.', 'digital_id': ['agc 7a16795 https://hdl.loc.gov/loc.pnp/agc.7a16795'], 'display_offsite': True, 'format': ['still image'], 'formats': [{'link': 'https://www.loc.gov/pictures/related/?fi=format&q=Glass%20negatives.&co=agc', 'title': 'Glass negatives.'}, {'link': 'https://www.loc.gov/pictures/related/?fi=format&q=Portrait%20photographs.&co=agc', 'title': 'Portrait photographs.'}], 'genre': ['Portrait photographs', 'Glass negatives'], 'id': '2018706861', 'language': ['eng'], 'link': 'https://www.loc.gov/pictures/item/2018706861/', 'marc': 'https://www.loc.gov/pictures/item/2018706861/marc/', 'medium': ['1 negative : glass ; 5 x 7 in.'], 'medium_brief': '1 negative :', 'mediums': ['1 negative : glass ; 5 x 7 in.'], 'modified': '2019-10-22T06:20:22Z', 'notes': ['Credit line: Genthe photograph collection, Library of Congress, Prints and Photographs Division.', 'General information about the Genthe photograph collection is available at: https://hdl.loc.gov/loc.pnp/pp.agc', 'Forms part of: Genthe photograph collection (Library of Congress)', 'Purchase; Genthe Estate; 1942 or 1943.', 'Temp. note: Batch one.', '1933; NY 8r; RR card; PR6 card'], 'number_former_id': ['https://www.loc.gov/item/2018706861', 'https://www.loc.gov/item/agc1996002950/PP'], 'other_control_numbers': ['21062142', 'agc1996002950/PP'], 'part_of': 'Genthe photograph collection (Library of Congress)', 'repository': 'Library of Congress Prints and Photographs Division Washington, D.C. 20540 USA', 'reproduction_number': 'LC-G432-0187 (b&w glass neg.)\\nLC-DIG-agc-7a16795 (digital file from original neg.)', 'resource_links': ['https://hdl.loc.gov/loc.pnp/agc.7a16795'], 'rights_advisory': 'No known restrictions on publication. For information, see: \"Genthe photograph collection\" https://hdl.loc.gov/loc.pnp/res.073.agc', 'rights_information': 'No known restrictions on publication. For information, see: \"Genthe photograph collection\" https://hdl.loc.gov/loc.pnp/res.073.agc', 'service_low': 'https://tile.loc.gov/storage-services/service/pnp/agc/7a16000/7a16700/7a16795_150px.jpg', 'service_medium': 'https://tile.loc.gov/storage-services/service/pnp/agc/7a16000/7a16700/7a16795r.jpg', 'sort_date': '1912', 'source_collection': ['Genthe photograph collection (Library of Congress)'], 'source_created': '1994-08-19T00:00:00Z', 'source_modified': '2019-10-15T08:17:18Z', 'subject_headings': ['Genthe, Arnold,--1869-1942--Animals & pets.', 'Cats.'], 'subjects': ['Genthe, Arnold,--1869-1942--Animals & pets', 'Cats'], 'thumb_gallery': 'https://tile.loc.gov/storage-services/service/pnp/agc/7a16000/7a16700/7a16795_150px.jpg', 'title': 'Buzzer the cat, portrait photograph'}\n",
      "language : ['english']\n",
      "languages : [{'english': 'https://www.loc.gov/search/?fa=language:english&fo=json'}]\n",
      "library_of_congress_control_number : 2018706861\n",
      "link : https://www.loc.gov/pictures/item/2018706861/\n",
      "marc : https://www.loc.gov/pictures/item/2018706861/marc/\n",
      "medium : ['1 negative : glass ; 5 x 7 in.']\n",
      "medium_brief : 1 negative :\n",
      "mime_type : ['image/gif', 'image/jpg', 'image/tif']\n",
      "modified : 2019-10-22T06:20:22Z\n",
      "notes : ['Credit line: Genthe photograph collection, Library of Congress, Prints and Photographs Division.', 'General information about the Genthe photograph collection is available at: https://hdl.loc.gov/loc.pnp/pp.agc', 'Forms part of: Genthe photograph collection (Library of Congress)', 'Purchase; Genthe Estate; 1942 or 1943.', 'Temp. note: Batch one.', '1933; NY 8r; RR card; PR6 card']\n",
      "number : ['http://www.loc.gov/item/agc1996002950/pp', '2019-10-15t08:17:18', 'http://www.loc.gov/item/2018706861', 'http://www.loc.gov/item/21062142', '2018706861']\n",
      "number_former_id : ['http://www.loc.gov/item/21062142', 'http://www.loc.gov/item/agc1996002950/pp', 'http://www.loc.gov/item/2018706861']\n",
      "number_lccn : ['2018706861']\n",
      "number_source_modified : ['2019-10-15t08:17:18']\n",
      "online_format : ['image']\n",
      "original_format : ['photo, print, drawing']\n",
      "other_control_numbers : ['21062142', 'agc1996002950/PP']\n",
      "other_formats : [{'label': 'MARCXML Record', 'link': 'https://lccn.loc.gov/2018706861/marcxml'}, {'label': 'MODS Record', 'link': 'https://lccn.loc.gov/2018706861/mods'}, {'label': 'Dublin Core Record', 'link': 'https://lccn.loc.gov/2018706861/dc'}]\n",
      "other_title : []\n",
      "partof : [{'count': 16870, 'title': 'genthe collection', 'url': 'https://www.loc.gov/collections/genthe/?fo=json'}, {'count': 989023, 'title': 'prints & photographs online catalog (library of congress)', 'url': 'https://www.loc.gov/search/?fa=partof:prints+%26+photographs+online+catalog+%28library+of+congress%29&fo=json'}, {'count': 1049019, 'title': 'prints and photographs division', 'url': 'https://www.loc.gov/search/?fa=partof:prints+and+photographs+division&fo=json'}, {'count': 1487306, 'title': 'catalog', 'url': 'https://www.loc.gov/search/?fa=partof:catalog&fo=json'}]\n",
      "related : {'neighbors': 'https://www.loc.gov/pictures/related/?&co=agc&pk=2018706861&st=gallery&sb=call_number#focus'}\n",
      "repository : ['Library of Congress Prints and Photographs Division Washington, D.C. 20540 USA']\n",
      "reproduction_number : LC-G432-0187 (b&w glass neg.)\n",
      "LC-DIG-agc-7a16795 (digital file from original neg.)\n",
      "reproductions : []\n",
      "resource_links : ['https://hdl.loc.gov/loc.pnp/agc.7a16795']\n",
      "resources : [{'caption': 'digital file from original neg.', 'files': 1, 'image': 'https://tile.loc.gov/storage-services/service/pnp/agc/7a16000/7a16700/7a16795_150px.jpg', 'url': 'https://www.loc.gov/resource/agc.7a16795/'}]\n",
      "rights : ['<p>The Library of Congress does not&nbsp;own rights to material  in its collections. Therefore, it does not license or charge permission fees  for use of such material and cannot grant or deny permission to publish or  otherwise distribute the material. </p>\\n<p>Ultimately, it is the researcher\\'s obligation to assess copyright or other use restrictions and  obtain permission from third parties when necessary before publishing or  otherwise distributing materials found in the Library\\'s collections. </p>\\n<p>For information about reproducing,  publishing, and citing material from this collection, as well as access to the  original items, see:  <a href=\"//www.loc.gov/rr/print/res/073_gen.html\">Genthe - Rights and Restrictions Information</a></p>\\n \\n']\n",
      "rights_advisory : No known restrictions on publication. For information, see: \"Genthe photograph collection\" https://hdl.loc.gov/loc.pnp/res.073.agc\n",
      "rights_information : No known restrictions on publication. For information, see: \"Genthe photograph collection\" https://hdl.loc.gov/loc.pnp/res.073.agc\n",
      "score : 19.430763\n",
      "shard : 00\n",
      "shelf_id : LC-G432- 0187 [P&P]\n",
      "site : ['pictures', 'catalog']\n",
      "sort_date : 1912\n",
      "source_collection : Genthe photograph collection (Library of Congress)\n",
      "source_created : 1994-08-19T00:00:00Z\n",
      "source_modified : 2019-10-15T08:17:18Z\n",
      "subject : ['cats', 'portrait photographs', 'animals & pets', 'genthe, arnold', 'glass negatives']\n",
      "subject_headings : ['Genthe, Arnold,--1869-1942--Animals & pets', 'Cats']\n",
      "subjects : [{'animals & pets': 'https://www.loc.gov/search/?fa=subject:animals+%26+pets&fo=json'}, {'cats': 'https://www.loc.gov/search/?fa=subject:cats&fo=json'}, {'genthe, arnold': 'https://www.loc.gov/search/?fa=subject:genthe,+arnold&fo=json'}, {'glass negatives': 'https://www.loc.gov/search/?fa=subject:glass+negatives&fo=json'}, {'portrait photographs': 'https://www.loc.gov/search/?fa=subject:portrait+photographs&fo=json'}]\n",
      "thumb_gallery : https://tile.loc.gov/storage-services/service/pnp/agc/7a16000/7a16700/7a16795_150px.jpg\n",
      "timestamp : 2022-04-27T07:38:49.009Z\n",
      "title : Buzzer the cat, portrait photograph\n",
      "type : ['photo, print, drawing']\n",
      "unrestricted : True\n",
      "url : https://www.loc.gov/item/2018706861/\n"
     ]
    }
   ],
   "source": [
    "# try first with one file, can you open the json, can you see what elements are in the json?\n",
    "with open(list_of_item_metadata_files[0], 'r', encoding='utf-8') as item:\n",
    "    # what are we looking at?\n",
    "    print('file:',list_of_item_metadata_files[0],'\\n')\n",
    "    \n",
    "    # load the item data\n",
    "    item_data = json.load(item)\n",
    "    \n",
    "    for element in item_data.keys():\n",
    "        print(element,':',item_data[element])"
   ]
  },
  {
   "cell_type": "code",
   "execution_count": 77,
   "metadata": {},
   "outputs": [
    {
     "data": {
      "text/plain": [
       "dict_keys(['_version_', 'access_restricted', 'aka', 'call_number', 'campaigns', 'contributor_names', 'contributors', 'control_number', 'created', 'created_published', 'created_published_date', 'date', 'dates', 'description', 'digital_id', 'digitized', 'display_offsite', 'extract_timestamp', 'extract_urls', 'format', 'format_headings', 'genre', 'group', 'hassegments', 'id', 'image_url', 'index', 'item', 'language', 'languages', 'library_of_congress_control_number', 'link', 'marc', 'medium', 'medium_brief', 'mime_type', 'modified', 'notes', 'number', 'number_former_id', 'number_lccn', 'number_source_modified', 'online_format', 'original_format', 'other_control_numbers', 'other_formats', 'other_title', 'partof', 'related', 'repository', 'reproduction_number', 'reproductions', 'resource_links', 'resources', 'rights', 'rights_advisory', 'rights_information', 'score', 'shard', 'shelf_id', 'site', 'sort_date', 'source_collection', 'source_created', 'source_modified', 'subject', 'subject_headings', 'subjects', 'thumb_gallery', 'timestamp', 'title', 'type', 'unrestricted', 'url'])"
      ]
     },
     "execution_count": 77,
     "metadata": {},
     "output_type": "execute_result"
    }
   ],
   "source": [
    "item_data.keys()"
   ]
  },
  {
   "cell_type": "code",
   "execution_count": 93,
   "metadata": {},
   "outputs": [
    {
     "ename": "IndexError",
     "evalue": "list index out of range",
     "output_type": "error",
     "traceback": [
      "\u001b[0;31m---------------------------------------------------------------------------\u001b[0m",
      "\u001b[0;31mIndexError\u001b[0m                                Traceback (most recent call last)",
      "Cell \u001b[0;32mIn[93], line 1\u001b[0m\n\u001b[0;32m----> 1\u001b[0m \u001b[38;5;28mprint\u001b[39m(\u001b[38;5;124m'\u001b[39m\u001b[38;5;130;01m\\n\u001b[39;00m\u001b[38;5;124mcontributors:\u001b[39m\u001b[38;5;124m'\u001b[39m, \u001b[43mitem_data\u001b[49m\u001b[43m[\u001b[49m\u001b[38;5;124;43m'\u001b[39;49m\u001b[38;5;124;43mcontributor_names\u001b[39;49m\u001b[38;5;124;43m'\u001b[39;49m\u001b[43m]\u001b[49m\u001b[43m[\u001b[49m\u001b[38;5;241;43m1\u001b[39;49m\u001b[43m]\u001b[49m)\n",
      "\u001b[0;31mIndexError\u001b[0m: list index out of range"
     ]
    }
   ],
   "source": [
    "print('\\ncontributors:', item_data['contributor_names'])"
   ]
  },
  {
   "cell_type": "code",
   "execution_count": 79,
   "metadata": {},
   "outputs": [
    {
     "name": "stdout",
     "output_type": "stream",
     "text": [
      "\n",
      "date: 1912-01-01 <class 'str'>\n",
      "\n",
      "format: {'photo, print, drawing': 'https://www.loc.gov/search/?fa=original_format:photo,+print,+drawing&fo=json'} <class 'list'>\n"
     ]
    }
   ],
   "source": [
    "# can you get the date?\n",
    "print('\\ndate:',item_data['date'], type(item_data['date']))\n",
    "    # can you get the format?\n",
    "print('\\nformat:',item_data['format'][0], type(item_data['format']))"
   ]
  },
  {
   "cell_type": "code",
   "execution_count": 80,
   "metadata": {},
   "outputs": [
    {
     "name": "stdout",
     "output_type": "stream",
     "text": [
      "created row dictionary: {'source_file': 'data/ftu_libs_metadata/item_metadata-thc.5a36851.json', 'item_id': '2018706861', 'title': 'Buzzer the cat, portrait photograph', 'date': '1912-01-01', 'source_url': 'https://www.loc.gov/item/2018706861/', 'phys_format': {'photo, print, drawing': 'https://www.loc.gov/search/?fa=original_format:photo,+print,+drawing&fo=json'}, 'dig_format': 'image', 'rights': 'No known restrictions on publication. For information, see: \"Genthe photograph collection\" https://hdl.loc.gov/loc.pnp/res.073.agc'}\n",
      "wrote collection_items_data.csv\n"
     ]
    }
   ],
   "source": [
    "# set up the containers to create the csv of all the item fields\n",
    "# file for csv to read out\n",
    "collection_info_csv = 'collection_items_data.csv'\n",
    "\n",
    "# set up a list for the columns in your csv; \n",
    "# your goal should be to automate this, but . . . \n",
    "# it works for demonstration as you set up the crosswalk\n",
    "headers = ['source_file', 'item_id', 'title', 'date', 'source_url', 'phys_format', 'dig_format', 'rights']\n",
    "\n",
    "# try first with one file\n",
    "with open(list_of_item_metadata_files[0], 'r', encoding='utf-8') as data:\n",
    "    # load the item data\n",
    "    item_data = json.load(data)\n",
    "    \n",
    "    # extract the data you want\n",
    "    # for checking purposes, add in the source of the info\n",
    "    source_file = str(file)\n",
    "    # make sure there's some unique and stable identifier\n",
    "    try:\n",
    "        item_id = item_data['library_of_congress_control_number']\n",
    "    except:\n",
    "        item_id = item_data['url'].split('/')[-2]\n",
    "    title = item_data['title']\n",
    "    date = item_data['date']\n",
    "    source_url = item_data['url']\n",
    "    try:\n",
    "        phys_format = item_data['format'][0]\n",
    "    except:\n",
    "        phys_format = 'Not found'\n",
    "    try:\n",
    "        dig_format = item_data['online_format'][0]\n",
    "    except:\n",
    "        dig_format = 'Not found'\n",
    "    mime_type = item_data['mime_type']\n",
    "    try:\n",
    "        rights = item_data['rights_information']\n",
    "    except:\n",
    "        rights = 'Undetermined'\n",
    "\n",
    "\n",
    "    # dictionary for the rows\n",
    "    row_dict = dict()\n",
    "    \n",
    "    # look for the item metadata, assign it to the dictionary; \n",
    "    # start with some basic elements likely (already enumerated in the headers list) :\n",
    "    # source file\n",
    "    row_dict['source_file'] = source_file\n",
    "    # identifier\n",
    "    row_dict['item_id'] = item_id\n",
    "    # title\n",
    "    row_dict['title'] = title\n",
    "    # date\n",
    "    row_dict['date'] = date\n",
    "    # link\n",
    "    row_dict['source_url'] = source_url\n",
    "    # format\n",
    "    row_dict['phys_format'] = phys_format\n",
    "    # digital format\n",
    "    row_dict['dig_format'] = dig_format\n",
    "    #rights\n",
    "    row_dict['rights'] = rights \n",
    "    print('created row dictionary:',row_dict)\n",
    "\n",
    "    # write to the csv\n",
    "    with open(collection_info_csv, 'w', encoding='utf-8') as fout:\n",
    "        writer = csv.DictWriter(fout, fieldnames=headers)\n",
    "        writer.writeheader()\n",
    "        writer.writerow(row_dict)\n",
    "        print('wrote',collection_info_csv)"
   ]
  },
  {
   "cell_type": "code",
   "execution_count": 83,
   "metadata": {},
   "outputs": [
    {
     "name": "stdout",
     "output_type": "stream",
     "text": [
      "https://tile.loc.gov/storage-services/service/pnp/agc/7a16000/7a16700/7a16795r.jpg#h=392&w=560\n"
     ]
    }
   ],
   "source": [
    "collection_info_csv = 'collection_items_data.csv'\n",
    "\n",
    "# set up a list for the columns in your csv; in future, this should be more automated but this works for now as you set up the crosswalk\n",
    "headers = ['source_file', 'item_id', 'title', 'date', 'source_url', 'phys_format', 'dig_format', 'rights']\n",
    "\n",
    "# try first with one file\n",
    "with open(list_of_item_metadata_files[0], 'r', encoding='utf-8') as data:\n",
    "    # load the item data\n",
    "    item_data = json.load(data)\n",
    "    \n",
    "    print(item_data['image_url'][2])"
   ]
  },
  {
   "cell_type": "code",
   "execution_count": 85,
   "metadata": {},
   "outputs": [
    {
     "name": "stdout",
     "output_type": "stream",
     "text": [
      "2023-11-20\n"
     ]
    }
   ],
   "source": [
    "from datetime import date\n",
    "\n",
    "date_string_for_today = date.today().strftime('%Y-%m-%d') # see https://docs.python.org/3/library/datetime.html#strftime-strptime-behavior\n",
    "\n",
    "print(date_string_for_today)\n"
   ]
  },
  {
   "cell_type": "code",
   "execution_count": 99,
   "metadata": {},
   "outputs": [
    {
     "name": "stdout",
     "output_type": "stream",
     "text": [
      "opening data/ftu_libs_metadata/item_metadata-agc.7a16795.json\n",
      "adding 2018706861\n",
      "opening data/ftu_libs_metadata/item_metadata-agc.7a17761.json\n",
      "adding 2018706861\n",
      "opening data/ftu_libs_metadata/item_metadata-cai.2a15065.json\n",
      "adding 2018706861\n",
      "opening data/ftu_libs_metadata/item_metadata-cph.3b06249.json\n",
      "adding 2018706861\n",
      "opening data/ftu_libs_metadata/item_metadata-cph.3b16490.json\n",
      "adding 2018706861\n",
      "opening data/ftu_libs_metadata/item_metadata-cph.3b39357.json\n",
      "adding 2018706861\n",
      "opening data/ftu_libs_metadata/item_metadata-cph.3c00170.json\n",
      "adding 2018706861\n",
      "opening data/ftu_libs_metadata/item_metadata-cph.3c06978.json\n",
      "adding 2018706861\n",
      "opening data/ftu_libs_metadata/item_metadata-cph.3c20459.json\n",
      "adding 2018706861\n",
      "opening data/ftu_libs_metadata/item_metadata-cph.3c21044.json\n",
      "adding 2018706861\n",
      "opening data/ftu_libs_metadata/item_metadata-cph.3g03063.json\n",
      "adding 2018706861\n",
      "opening data/ftu_libs_metadata/item_metadata-cph.3g03065.json\n",
      "adding 2018706861\n",
      "opening data/ftu_libs_metadata/item_metadata-cph.3g08217.json\n",
      "adding 2018706861\n",
      "opening data/ftu_libs_metadata/item_metadata-cph.3g08753.json\n",
      "adding 2018706861\n",
      "opening data/ftu_libs_metadata/item_metadata-ds.04034.json\n",
      "adding 2018706861\n",
      "opening data/ftu_libs_metadata/item_metadata-ds.04037.json\n",
      "adding 2018706861\n",
      "opening data/ftu_libs_metadata/item_metadata-ds.07446.json\n",
      "adding 2018706861\n",
      "opening data/ftu_libs_metadata/item_metadata-fsa.8c01765.json\n",
      "adding 2018706861\n",
      "opening data/ftu_libs_metadata/item_metadata-gottlieb.10861.0.json\n",
      "adding 2018706861\n",
      "opening data/ftu_libs_metadata/item_metadata-gsc.5a10626.json\n",
      "adding 2018706861\n",
      "opening data/ftu_libs_metadata/item_metadata-hec.21589.json\n",
      "adding 2018706861\n",
      "opening data/ftu_libs_metadata/item_metadata-highsm.41489.json\n",
      "adding 2018706861\n",
      "opening data/ftu_libs_metadata/item_metadata-highsm.43955.json\n",
      "adding 2018706861\n",
      "opening data/ftu_libs_metadata/item_metadata-highsm.47959.json\n",
      "adding 2018706861\n",
      "opening data/ftu_libs_metadata/item_metadata-jpd.02425.json\n",
      "adding 2018706861\n",
      "opening data/ftu_libs_metadata/item_metadata-jpd.02798.json\n",
      "adding 2018706861\n",
      "opening data/ftu_libs_metadata/item_metadata-npcc.09707.json\n",
      "adding 2018706861\n",
      "opening data/ftu_libs_metadata/item_metadata-npcc.10856.json\n",
      "adding 2018706861\n",
      "opening data/ftu_libs_metadata/item_metadata-npcc.16579.json\n",
      "adding 2018706861\n",
      "opening data/ftu_libs_metadata/item_metadata-pga.05046.json\n",
      "adding 2018706861\n",
      "opening data/ftu_libs_metadata/item_metadata-pga.07149.json\n",
      "adding 2018706861\n",
      "opening data/ftu_libs_metadata/item_metadata-pga.12042.json\n",
      "adding 2018706861\n",
      "opening data/ftu_libs_metadata/item_metadata-ppmsca.05919.json\n",
      "adding 2018706861\n",
      "opening data/ftu_libs_metadata/item_metadata-ppmsca.15528.json\n",
      "adding 2018706861\n",
      "opening data/ftu_libs_metadata/item_metadata-ppmsca.18772.json\n",
      "adding 2018706861\n",
      "opening data/ftu_libs_metadata/item_metadata-ppmsca.43507.json\n",
      "adding 2018706861\n",
      "opening data/ftu_libs_metadata/item_metadata-ppmsca.51533.json\n",
      "adding 2018706861\n",
      "opening data/ftu_libs_metadata/item_metadata-rbc0001.2003juv0001.json\n",
      "adding 2018706861\n",
      "opening data/ftu_libs_metadata/item_metadata-thc.5a36851.json\n",
      "adding 2018706861\n",
      "\n",
      "\n",
      "--- LOG ---\n",
      "wrote data/collection_items_data.csv\n",
      "with 39 items\n",
      "0 errors (info not written)\n"
     ]
    }
   ],
   "source": [
    "# set up the containers to create the csv & counters \n",
    "# file for csv to read out\n",
    "collection_info_csv = os.path.join('data','collection_items_data.csv')\n",
    "file_count = 0\n",
    "items_written = 0\n",
    "error_count = 0\n",
    "\n",
    "# add in a couple of extras for Omeka, including item type and date uploaded\n",
    "\n",
    "# set up a list for the columns in your csv; in future, this should be more automated but this works for now as you set up the crosswalk\n",
    "headers = ['title', 'date', 'description', 'call_number', 'contributor_names', 'format', 'language', 'mime_type', 'subject', 'partof']\n",
    "\n",
    "# now, adapt the previous loop to open each file:\n",
    "for file in list_of_item_metadata_files:\n",
    "    file_count += 1\n",
    "    print('opening',file)\n",
    "    with open(file, 'r', encoding='utf-8') as item:\n",
    "        # load the item data\n",
    "        try:\n",
    "            item_data = json.load(item)\n",
    "        except:\n",
    "            print('error loading',file)\n",
    "            error_count += 1\n",
    "            continue\n",
    "\n",
    "        # extract/name the data you want\n",
    "        # item type\n",
    "        item_type = 'Item'\n",
    "        # date uplaoded\n",
    "        date_uploaded = date_string_for_today\n",
    "        # for checking purposes, add in the source of the info\n",
    "        source_file = str(file)\n",
    "        # make sure there's some unique and stable identifier\n",
    "        try:\n",
    "            title = item_data['title']\n",
    "        except:\n",
    "            title = 'not found'\n",
    "        try:\n",
    "            date = item_data['date']\n",
    "        except:\n",
    "            date = 'Not found'\n",
    "        try:\n",
    "            description = item_data['description']\n",
    "        except:\n",
    "            description = 'Not found'\n",
    "        try:\n",
    "            call_number = item_data['call_number']\n",
    "        except:\n",
    "            call_number = 'not found'\n",
    "        try:\n",
    "            contributor_names = item_data['contributor_names']\n",
    "        except:\n",
    "            contributor_names = 'not found'\n",
    "        try:\n",
    "            format = item_data['format']\n",
    "        except:\n",
    "            format = 'not found'\n",
    "        try:\n",
    "            language = item_data['language']\n",
    "        except:\n",
    "            language = 'not found'\n",
    "        try:\n",
    "            mime_type = item_data['mime_type']\n",
    "        except:\n",
    "            mime_type = 'not found'\n",
    "        try:\n",
    "            subject = item_data['subject']\n",
    "        except:\n",
    "            subject = 'not found'\n",
    "        try:\n",
    "            partof = item_data['partof'][0]\n",
    "        except:\n",
    "            partof = 'not found'\n",
    "        # dictionary for the rows\n",
    "        row_dict = dict()\n",
    "\n",
    "        # look for the item metadata, assign it to the dictionary; \n",
    "        # start with some basic elements likely (already enumerated in the headers list) :\n",
    "        # title\n",
    "        row_dict['title'] = title\n",
    "        # date\n",
    "        row_dict['date'] = date\n",
    "        # description\n",
    "        row_dict['description'] = description\n",
    "        # call num\n",
    "        row_dict['call_number'] = call_number\n",
    "        # creator\n",
    "        row_dict['contributor_names'] = contributor_names\n",
    "        # original format\n",
    "        row_dict['format'] = format\n",
    "        # language\n",
    "        row_dict['language'] = language\n",
    "        # mime type\n",
    "        row_dict['mime_type'] = mime_type\n",
    "        # subject\n",
    "        row_dict['subject'] = subject\n",
    "        # part of\n",
    "        row_dict['partof'] = partof\n",
    "\n",
    "\n",
    "        # write to the csv\n",
    "        with open(collection_info_csv, 'a', encoding='utf-8') as fout:\n",
    "            writer = csv.DictWriter(fout, fieldnames=headers)\n",
    "            if items_written == 0:\n",
    "                writer.writeheader()\n",
    "            writer.writerow(row_dict)\n",
    "            items_written += 1\n",
    "            print('adding',item_id)\n",
    "\n",
    "print('\\n\\n--- LOG ---')\n",
    "print('wrote',collection_info_csv)\n",
    "print('with',items_written,'items')\n",
    "print(error_count,'errors (info not written)')\n"
   ]
  }
 ],
 "metadata": {
  "kernelspec": {
   "display_name": "Python 3.11.6 64-bit",
   "language": "python",
   "name": "python3"
  },
  "language_info": {
   "codemirror_mode": {
    "name": "ipython",
    "version": 3
   },
   "file_extension": ".py",
   "mimetype": "text/x-python",
   "name": "python",
   "nbconvert_exporter": "python",
   "pygments_lexer": "ipython3",
   "version": "3.11.6"
  },
  "orig_nbformat": 4,
  "vscode": {
   "interpreter": {
    "hash": "aee8b7b246df8f9039afb4144a1f6fd8d2ca17a180786b69acc140d282b71a49"
   }
  }
 },
 "nbformat": 4,
 "nbformat_minor": 2
}
